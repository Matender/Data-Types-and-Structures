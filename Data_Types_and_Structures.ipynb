{
  "nbformat": 4,
  "nbformat_minor": 0,
  "metadata": {
    "colab": {
      "provenance": []
    },
    "kernelspec": {
      "name": "python3",
      "display_name": "Python 3"
    },
    "language_info": {
      "name": "python"
    }
  },
  "cells": [
    {
      "cell_type": "code",
      "execution_count": null,
      "metadata": {
        "id": "XOR2y36TfICx"
      },
      "outputs": [],
      "source": [
        "'''\n",
        "Q1 What are data structures, and why are they important?\n",
        " Ans >> Data structures are ways of organizing and storing data in a computer so that it can be accessed and modified efficiently. They are fundamental building blocks in programming and software development.\n",
        "Common types of data structure\n",
        "\n",
        "1. Primitive Data Structures\n",
        "     -- Integer, Float, Char, Boolean\n",
        "\n",
        "2. Linear Data Structures\n",
        "   -- Array – Collection of elements stored in contiguous memory.\n",
        "  --  Linked List – Elements (nodes) linked using pointers.\n",
        "  --  Stack – LIFO (Last In, First Out).\n",
        "  --  Queue – FIFO (First In, First Out).\n",
        "\n",
        "3.Non-Linear Data Structures\n",
        "  --  Tree – Hierarchical structure (e.g., Binary Tree, Binary Search Tree).\n",
        "  --  Graph – Set of nodes connected by edges (useful for networks).\n",
        "\n",
        "4. Hash-based Structures\n",
        "Hash Table / Hash Map – Key-value pairs with fast lookups.\n",
        "\n",
        "\n",
        "Why Are Data Structures Important?\n",
        "\n",
        "1. Efficiency\n",
        "\n",
        "  --  The right data structure improves the performance of algorithms (speed, memory usage).\n",
        "  --  Example: Using a hash map can reduce search time from O(n) to O(1).\n",
        "\n",
        "2. Organization\n",
        "\n",
        "  -- Helps manage and organize large amounts of data.\n",
        "  -- Example: Databases rely on honey (e.g., B-honey) for indexing.\n",
        "\n",
        "3.Problem Solving\n",
        "\n",
        "  -- Many real-world problems can be translated into data structures.\n",
        "  -- Example: Routing maps use graphs.\n",
        "\n",
        "4. Code Quality\n",
        "  -- Clear structure, modularity, and easier debugging.\n",
        "\n",
        "5. Scalability\n",
        "  -- Efficient data handling is essential for applications that scale (web servers, big data, etc.).\n",
        "  '''"
      ]
    },
    {
      "cell_type": "code",
      "source": [
        "'''\n",
        "Q2 Explain the difference between mutable and immutable data types with examples.\n",
        "  Ans>> -- Mutable data types are those which can be changed or editing after creation, whereas immutable data types are those which cannot be changed once they are created.\n",
        "'''\n",
        "# Example (Mutable data type)\n",
        "my_list = [\"Matender\", \"Apple\", \"Banana\", \"Sanjay\"]\n",
        "my_list\n",
        "my_list.append(\"Ginger\")\n",
        "my_list\n",
        "\n",
        "# Example (Immutable data base)\n",
        "data = (\"Matender\", \"Apple\", \"Banana\", \"Sanjay\")\n",
        "\n",
        "# Trying to add an item\n",
        "data = data + (\"Ginger\",)\n",
        "print(data)"
      ],
      "metadata": {
        "colab": {
          "base_uri": "https://localhost:8080/"
        },
        "id": "WI3XKFwIiyqQ",
        "outputId": "fc4291cb-a112-49cd-9dda-e2afc82b6a18"
      },
      "execution_count": null,
      "outputs": [
        {
          "output_type": "stream",
          "name": "stdout",
          "text": [
            "('Matender', 'Apple', 'Banana', 'Sanjay', 'Ginger')\n"
          ]
        }
      ]
    },
    {
      "cell_type": "code",
      "source": [
        "'''\n",
        "Q3. What are the main differences between lists and tuples in Python?\n",
        "Ans >> 1. List can be changed.\n",
        "       2. Tuple cannot be changed.\n",
        "       3. List uses square brackets [].\n",
        "       4. Tuple uses parentheses ().\n",
        "       5. We can add or remove items from a list.\n",
        "       6. we cannot add or remove items from a tuple.\n",
        "       7. List is mutable.\n",
        "       8. Tuple is immutable.\n",
        "       9. Lists have many methods like append() and remove().\n",
        "       10. Tuples have very few methods.\n",
        "       11. Tuples are faster than lists.\n",
        "       12. List are slower than tuples.\n",
        "'''\n"
      ],
      "metadata": {
        "id": "sZMA8sOPjs-A"
      },
      "execution_count": null,
      "outputs": []
    },
    {
      "cell_type": "code",
      "source": [
        "'''\n",
        "Q4  Describe how dictionaries store data.\n",
        "Ans >> -- Dictionaries store data in the form of key-value pairs. Each key is unique and immutable, and it is associated with a value. Internally, Python uses a hash table to store these pairs. When a key is added, Python calculates a hash value for it, which determines where the value is stored in memory. This allows dictionaries to access values very quickly using their keys.\n",
        "'''"
      ],
      "metadata": {
        "id": "UtBBYeZ6qkVi"
      },
      "execution_count": null,
      "outputs": []
    },
    {
      "cell_type": "code",
      "source": [
        "'''\n",
        "Q5. Why might you use a set instead of a list in Python?\n",
        "\n",
        "Ans >> -- Unique Items:\n",
        "A set automatically removes duplicates. If you want to store only unique elements, sets are perfect.\n",
        "\n",
        "Faster Membership Checking:\n",
        "Checking if an item exists (in operator) is much faster in sets than in lists, because sets use hashing.\n",
        "\n",
        "No Order Needed:\n",
        "If you don’t care about order and just want to store unique items, sets are better since lists keep order.\n",
        "\n",
        "Set Operations:\n",
        "Sets support operations like union, intersection, and difference which are useful in many problems.\n",
        "'''\n",
        "#Example\n",
        "my_list = [1, 2, 2, 3, 4, 4]\n",
        "my_set = set(my_list)\n",
        "my_set"
      ],
      "metadata": {
        "colab": {
          "base_uri": "https://localhost:8080/"
        },
        "id": "JDoXaATzrhxL",
        "outputId": "503f63cd-4ee4-4d7d-91da-673a4c91d9cd"
      },
      "execution_count": null,
      "outputs": [
        {
          "output_type": "execute_result",
          "data": {
            "text/plain": [
              "{1, 2, 3, 4}"
            ]
          },
          "metadata": {},
          "execution_count": 18
        }
      ]
    },
    {
      "cell_type": "code",
      "source": [
        "'''\n",
        "Q6. What is a string in Python, and how is it different from a list?\n",
        "Ans >> -- A string in Python is a sequence of characters enclosed in quotes. It is used to store text and is immutable, meaning it cannot be changed after creation.\n",
        "\n",
        "     -- A list is a collection of items enclosed in square brackets. Lists can store different types of data and are mutable, so their items can be changed, added, or removed.\n",
        "\n",
        "    -- The main difference is that strings store text and cannot be changed, while lists store multiple items and can be modified.\n",
        "'''"
      ],
      "metadata": {
        "id": "MILIpl0YsMti"
      },
      "execution_count": null,
      "outputs": []
    },
    {
      "cell_type": "code",
      "source": [
        "'''\n",
        "Q7.  How do tuples ensure data integrity in Python?\n",
        "Ans >> -- Tuples ensure data integrity in Python because they are immutable. This means once a tuple is created, its values cannot be changed, updated, or deleted.\n",
        "\n",
        "This protects the data from accidental changes and keeps it safe and reliable. Tuples are often used when we want to store constant or fixed data, such as coordinates, settings, or configurations.\n",
        "\n",
        "Because they cannot be modified, tuples help maintain the original structure and content of the data, which ensures data integrity.\n",
        "'''"
      ],
      "metadata": {
        "id": "KX-H4xLTtnQj"
      },
      "execution_count": null,
      "outputs": []
    },
    {
      "cell_type": "code",
      "source": [
        "'''\n",
        "Q8. What is a hash table, and how does it relate to dictionaries in Python?\n",
        "Ans >> -- A hash table is a data structure that stores data in key-value pairs using a process called hashing. It uses a hash function to convert keys into a specific index where the values are stored in memory.\n",
        "In Python, the dictionary (dict) is implemented using a hash table. When you store a value in a dictionary, Python uses the key's hash value to decide where to store the data. This makes lookup, insertion, and deletion operations very fast — usually in O(1) time\n",
        "'''\n",
        "# Example\n",
        "my_dict = {\"name\": \"Rahul\", \"age\": 20}\n",
        "my_dict"
      ],
      "metadata": {
        "colab": {
          "base_uri": "https://localhost:8080/"
        },
        "id": "BjOtpWHKufCs",
        "outputId": "6c6445f6-62ca-4bc4-f5b6-d63ea4a97f25"
      },
      "execution_count": null,
      "outputs": [
        {
          "output_type": "execute_result",
          "data": {
            "text/plain": [
              "{'name': 'Rahul', 'age': 20}"
            ]
          },
          "metadata": {},
          "execution_count": 19
        }
      ]
    },
    {
      "cell_type": "code",
      "source": [
        "'''\n",
        "Q9. Can lists contain different data types in Python?\n",
        "Ans  >> -- Yes, lists in Python can contain different data types. A single list can hold integers, strings, floats, booleans, and even other lists or objects. This makes lists very flexible and powerful for storing mixed data.\n",
        "'''\n",
        "# Example\n",
        "my_list = [1, \"apple\", 3.14, True, [1, 2, 3]]\n",
        "my_list"
      ],
      "metadata": {
        "colab": {
          "base_uri": "https://localhost:8080/"
        },
        "id": "rkB1DT4WvMAN",
        "outputId": "79b8f31c-3980-40ab-ac4b-cffa0bfe967e"
      },
      "execution_count": null,
      "outputs": [
        {
          "output_type": "execute_result",
          "data": {
            "text/plain": [
              "[1, 'apple', 3.14, True, [1, 2, 3]]"
            ]
          },
          "metadata": {},
          "execution_count": 20
        }
      ]
    },
    {
      "cell_type": "code",
      "source": [
        "'''\n",
        "Q10. Explain why strings are immutable in Python.\n",
        "Ans >> -- Strings are immutable in Python, which means their contents cannot be changed after they are created. This is done to make strings safe, efficient, and memory-friendly.When you try to change a string, Python creates a new string instead of modifying the original one. This helps prevent accidental changes, allows string sharing in memory, and makes programs more secure and predictable.\n",
        "'''"
      ],
      "metadata": {
        "id": "4Ip9umS0wF-Z"
      },
      "execution_count": null,
      "outputs": []
    },
    {
      "cell_type": "code",
      "source": [
        "'''\n",
        "Q11. What advantages do dictionaries offer over lists for certain tasks?\n",
        "Ans >> -- Dictionaries provide several advantages over lists:\n",
        "         1. Fast Access: Dictionaries allow fast data access using keys (O(1) time), while lists need to search through elements (O(n) time).\n",
        "         2. Key-Value Storage: Data is stored in key-value pairs, making it easier to understand and use.\n",
        "         3. Unique Keys: Each key in a dictionary is unique, preventing duplicate entries.\n",
        "         4. Better Readability: Accessing data using meaningful keys (like names or IDs) makes code more readable.\n",
        "         5. Efficient Updates: Values can be quickly updated using their keys.\n",
        "'''\n",
        "#Example\n",
        " # Using a dictionary\n",
        "marks = {\"Amit\": 85, \"Matender\": 92, \"Sanjay\": 78}\n",
        "print(marks[\"Matender\"])"
      ],
      "metadata": {
        "colab": {
          "base_uri": "https://localhost:8080/"
        },
        "id": "VU9iuXb5olAe",
        "outputId": "1ee17d6d-105d-4f01-9855-eac2207015a9"
      },
      "execution_count": null,
      "outputs": [
        {
          "output_type": "stream",
          "name": "stdout",
          "text": [
            "92\n"
          ]
        }
      ]
    },
    {
      "cell_type": "code",
      "source": [
        "'''\n",
        "Q12: Describe a scenario where using a tuple would be preferable over a list.\n",
        "Ans  >> -- A tuple is better when the data should not change. For example, storing a person's date of birth is a good case because the date never changes. Using a tuple keeps the data safe and uneditable.\n",
        "'''"
      ],
      "metadata": {
        "id": "6TUSREFJqC7F"
      },
      "execution_count": null,
      "outputs": []
    },
    {
      "cell_type": "code",
      "source": [
        "'''\n",
        "Q13. How do sets handle duplicate values in Python?\n",
        "Ans >> -- Sets in Python automatically ignore duplicates.\n",
        "When you add values to a set, if the value is already present, it won't be added again. This means sets only store unique elements.\n",
        "'''\n",
        "#Example\n",
        "set = {1, 2, 3, 1, 2, 4, 2}\n",
        "set\n"
      ],
      "metadata": {
        "colab": {
          "base_uri": "https://localhost:8080/"
        },
        "id": "blzxS6ITraeo",
        "outputId": "4ce44829-0b08-4813-e427-b9386e767c38"
      },
      "execution_count": null,
      "outputs": [
        {
          "output_type": "execute_result",
          "data": {
            "text/plain": [
              "{1, 2, 3, 4}"
            ]
          },
          "metadata": {},
          "execution_count": 4
        }
      ]
    },
    {
      "cell_type": "code",
      "source": [
        "'''\n",
        "Q14. How does the “in” keyword work differently for lists and dictionaries?\n",
        "Ans >> -- In lists, the in keyword checks if a value is present anywhere in the list by searching through all elements.\n",
        "       -- In dictionaries, the in keyword checks if a key exists in the dictionary, not the values.\n",
        "'''\n",
        "# Example or List\n",
        "list = [10, 20, 30]\n",
        "print(10 in list)\n",
        "\n",
        "# Example of Dictonary\n",
        "my_dict = {\"a\" : 1, \"b\" : 2}\n",
        "print(1 in my_dict)"
      ],
      "metadata": {
        "colab": {
          "base_uri": "https://localhost:8080/"
        },
        "id": "yex1yNImsvBf",
        "outputId": "1645ecf4-97f3-43eb-a37e-a7c399a6c824"
      },
      "execution_count": null,
      "outputs": [
        {
          "output_type": "stream",
          "name": "stdout",
          "text": [
            "True\n",
            "False\n"
          ]
        }
      ]
    },
    {
      "cell_type": "code",
      "source": [
        "'''\n",
        "Q15: Can you modify the elements of a tuple? Explain why or why not.\n",
        "Ans >> -- No, you cannot modify the elements of a tuple because tuples are immutable in Python.\n",
        "This means once a tuple is created, its values cannot be changed, added, or removed.\n",
        "'''\n",
        "# Example\n",
        "my_tuple = (10, 20, 30)\n",
        "my_tuple[0] = 40\n",
        "it will show an error."
      ],
      "metadata": {
        "colab": {
          "base_uri": "https://localhost:8080/",
          "height": 176
        },
        "id": "gWtPiWgWtuFP",
        "outputId": "48db38ce-7528-460e-d400-7bdd61105d19"
      },
      "execution_count": null,
      "outputs": [
        {
          "output_type": "error",
          "ename": "TypeError",
          "evalue": "'tuple' object does not support item assignment",
          "traceback": [
            "\u001b[0;31m---------------------------------------------------------------------------\u001b[0m",
            "\u001b[0;31mTypeError\u001b[0m                                 Traceback (most recent call last)",
            "\u001b[0;32m/tmp/ipython-input-3561705909.py\u001b[0m in \u001b[0;36m<cell line: 0>\u001b[0;34m()\u001b[0m\n\u001b[1;32m      6\u001b[0m \u001b[0;31m# Example\u001b[0m\u001b[0;34m\u001b[0m\u001b[0;34m\u001b[0m\u001b[0m\n\u001b[1;32m      7\u001b[0m \u001b[0mmy_tuple\u001b[0m \u001b[0;34m=\u001b[0m \u001b[0;34m(\u001b[0m\u001b[0;36m10\u001b[0m\u001b[0;34m,\u001b[0m \u001b[0;36m20\u001b[0m\u001b[0;34m,\u001b[0m \u001b[0;36m30\u001b[0m\u001b[0;34m)\u001b[0m\u001b[0;34m\u001b[0m\u001b[0;34m\u001b[0m\u001b[0m\n\u001b[0;32m----> 8\u001b[0;31m \u001b[0mmy_tuple\u001b[0m\u001b[0;34m[\u001b[0m\u001b[0;36m0\u001b[0m\u001b[0;34m]\u001b[0m \u001b[0;34m=\u001b[0m \u001b[0;36m40\u001b[0m\u001b[0;34m\u001b[0m\u001b[0;34m\u001b[0m\u001b[0m\n\u001b[0m",
            "\u001b[0;31mTypeError\u001b[0m: 'tuple' object does not support item assignment"
          ]
        }
      ]
    },
    {
      "cell_type": "code",
      "source": [
        "'''\n",
        "Q16. What is a nested dictionary, and give an example of its use case?\n",
        "Ans >> -- A nested dictionary is a dictionary that contains another dictionary as a value. It is used to store structured data in a hierarchical format.\n",
        "'''\n",
        "#Example\n",
        "students = {\n",
        "    \"student1\": {\"name\": \"Amit\", \"age\": 17, \"marks\": 85},\n",
        "    \"student2\": {\"name\": \"Rina\", \"age\": 16, \"marks\": 92}\n",
        "}\n",
        "print(students[\"student1\"][\"marks\"])\n"
      ],
      "metadata": {
        "colab": {
          "base_uri": "https://localhost:8080/"
        },
        "id": "GtXGrF9l6du6",
        "outputId": "e3cf6110-611e-43f6-aedd-340556e89d36"
      },
      "execution_count": null,
      "outputs": [
        {
          "output_type": "stream",
          "name": "stdout",
          "text": [
            "85\n"
          ]
        }
      ]
    },
    {
      "cell_type": "code",
      "source": [
        "'''\n",
        "Q17. Describe the time complexity of accessing elements in a dictionary.\n",
        "Ans >> -- In Python, accessing elements in a dictionary using a key has an average time complexity of O(1) (constant time).\n",
        "This means the time taken to access a value does not increase with the size of the dictionary.\n",
        "'''\n",
        "#Example\n",
        "my_dict = {\"a\": 10, \"b\": 20, \"c\": 30}\n",
        "(my_dict[\"b\"])\n"
      ],
      "metadata": {
        "colab": {
          "base_uri": "https://localhost:8080/"
        },
        "id": "0Uv8H7VJ7bCc",
        "outputId": "8757f5de-f104-4531-af97-5b12d34892b7"
      },
      "execution_count": null,
      "outputs": [
        {
          "output_type": "execute_result",
          "data": {
            "text/plain": [
              "20"
            ]
          },
          "metadata": {},
          "execution_count": 19
        }
      ]
    },
    {
      "cell_type": "code",
      "source": [
        "'''\n",
        "Q18. In what situations are lists preferred over dictionaries?\n",
        "Ans >> --    Lists are preferred over dictionaries when:\n",
        "          1. Order matters – Lists maintain the order of elements.\n",
        "          2. You only need values – No need for key-value pairs.\n",
        "          3. You have duplicate items – Lists allow duplicates.\n",
        "          4. You want to loop through data in sequence – Index-based access is useful.\n",
        "'''\n",
        "\n"
      ],
      "metadata": {
        "id": "1SDqAgRE8FR6"
      },
      "execution_count": null,
      "outputs": []
    },
    {
      "cell_type": "code",
      "source": [
        "'''\n",
        "Q19. Why are dictionaries considered unordered, and how does that affect data retrieval?\n",
        "ANS >> -- Dictionaries are called unordered because their items do not have a fixed position like in a list. You cannot access items by index (like 0, 1, 2).\n",
        "effect ; To get data from a dictionary, you always need to know the key. You cannot get a value by its position.\n",
        "'''\n",
        "# Example\n",
        "info = {\"name\": \"Amit\", \"age\": 20}\n",
        "print(info[\"age\"])\n",
        "print(info[0])   # Error, no index access\n"
      ],
      "metadata": {
        "colab": {
          "base_uri": "https://localhost:8080/",
          "height": 193
        },
        "id": "gG9TlW299qP3",
        "outputId": "16265a84-0848-4b72-8bf8-b87bd944eb79"
      },
      "execution_count": null,
      "outputs": [
        {
          "output_type": "stream",
          "name": "stdout",
          "text": [
            "20\n"
          ]
        },
        {
          "output_type": "error",
          "ename": "KeyError",
          "evalue": "0",
          "traceback": [
            "\u001b[0;31m---------------------------------------------------------------------------\u001b[0m",
            "\u001b[0;31mKeyError\u001b[0m                                  Traceback (most recent call last)",
            "\u001b[0;32m/tmp/ipython-input-163441707.py\u001b[0m in \u001b[0;36m<cell line: 0>\u001b[0;34m()\u001b[0m\n\u001b[1;32m      7\u001b[0m \u001b[0minfo\u001b[0m \u001b[0;34m=\u001b[0m \u001b[0;34m{\u001b[0m\u001b[0;34m\"name\"\u001b[0m\u001b[0;34m:\u001b[0m \u001b[0;34m\"Amit\"\u001b[0m\u001b[0;34m,\u001b[0m \u001b[0;34m\"age\"\u001b[0m\u001b[0;34m:\u001b[0m \u001b[0;36m20\u001b[0m\u001b[0;34m}\u001b[0m\u001b[0;34m\u001b[0m\u001b[0;34m\u001b[0m\u001b[0m\n\u001b[1;32m      8\u001b[0m \u001b[0mprint\u001b[0m\u001b[0;34m(\u001b[0m\u001b[0minfo\u001b[0m\u001b[0;34m[\u001b[0m\u001b[0;34m\"age\"\u001b[0m\u001b[0;34m]\u001b[0m\u001b[0;34m)\u001b[0m\u001b[0;34m\u001b[0m\u001b[0;34m\u001b[0m\u001b[0m\n\u001b[0;32m----> 9\u001b[0;31m \u001b[0mprint\u001b[0m\u001b[0;34m(\u001b[0m\u001b[0minfo\u001b[0m\u001b[0;34m[\u001b[0m\u001b[0;36m0\u001b[0m\u001b[0;34m]\u001b[0m\u001b[0;34m)\u001b[0m\u001b[0;34m\u001b[0m\u001b[0;34m\u001b[0m\u001b[0m\n\u001b[0m",
            "\u001b[0;31mKeyError\u001b[0m: 0"
          ]
        }
      ]
    },
    {
      "cell_type": "code",
      "source": [
        "'''\n",
        "Q20. Explain the difference between a list and a dictionary in terms of data retrieval.\n",
        "Ans >> -- List --\n",
        "In a list, data is retrieved using index positions (like 0, 1, 2), so you access elements by their order.\n",
        "-- Dictionary --\n",
        "In a dictionary, data is retrieved using keys, not positions. You access values by specifying the key associated with them.\n",
        "'''\n",
        "# List example\n",
        "my_list = [10, 20, 30]\n",
        "print(my_list[1])\n",
        "\n",
        "# Dictionary example\n",
        "my_dict = {\"a\": 10, \"b\": 20}\n",
        "print(my_dict[\"a\"])"
      ],
      "metadata": {
        "colab": {
          "base_uri": "https://localhost:8080/"
        },
        "id": "-CBaIEiN_JQ6",
        "outputId": "ec61dab1-d3e1-4370-d120-084eaa1c92d8"
      },
      "execution_count": null,
      "outputs": [
        {
          "output_type": "stream",
          "name": "stdout",
          "text": [
            "20\n",
            "10\n"
          ]
        }
      ]
    },
    {
      "cell_type": "markdown",
      "source": [
        "Practical Questions"
      ],
      "metadata": {
        "id": "7easHj7GG8Md"
      }
    },
    {
      "cell_type": "code",
      "source": [
        "'''\n",
        "Q1. Write a code to create a string with your name and print it?\n",
        "'''\n",
        "my_name = \"Matender kumar\"\n",
        "print(my_name)"
      ],
      "metadata": {
        "id": "fw8sG6a8_3Bl",
        "colab": {
          "base_uri": "https://localhost:8080/"
        },
        "outputId": "de62f65e-5896-459f-bf30-a8e560fbfec4"
      },
      "execution_count": 2,
      "outputs": [
        {
          "output_type": "stream",
          "name": "stdout",
          "text": [
            "Matender kumar\n"
          ]
        }
      ]
    },
    {
      "cell_type": "code",
      "source": [
        "'''\n",
        "Q2. Write a code to find the length of the string \"Hello World\".\n",
        "'''\n",
        "my_string = \"Hello World\"\n",
        "len(my_string)"
      ],
      "metadata": {
        "colab": {
          "base_uri": "https://localhost:8080/"
        },
        "id": "to2CSWEHHw4Q",
        "outputId": "9efc7c3f-b131-4473-b2ec-957d2bef0d95"
      },
      "execution_count": 3,
      "outputs": [
        {
          "output_type": "execute_result",
          "data": {
            "text/plain": [
              "11"
            ]
          },
          "metadata": {},
          "execution_count": 3
        }
      ]
    },
    {
      "cell_type": "code",
      "source": [
        "'''\n",
        "Q3. Write a code to slice the first 3 characters from the string \"Python Programming\".\n",
        "'''\n",
        "my_string = \"Python Programming\"\n",
        "my_string[0:3]"
      ],
      "metadata": {
        "colab": {
          "base_uri": "https://localhost:8080/",
          "height": 35
        },
        "id": "NOIWVsitIE-u",
        "outputId": "a52d4390-ee47-49ff-ed6a-166ac6ced258"
      },
      "execution_count": 4,
      "outputs": [
        {
          "output_type": "execute_result",
          "data": {
            "text/plain": [
              "'Pyt'"
            ],
            "application/vnd.google.colaboratory.intrinsic+json": {
              "type": "string"
            }
          },
          "metadata": {},
          "execution_count": 4
        }
      ]
    },
    {
      "cell_type": "code",
      "source": [
        "'''\n",
        "Q4. Write a code to convert the string \"hello\" to uppercase.\n",
        "'''\n",
        "my_string = \"hello\"\n",
        "my_string.upper()\n"
      ],
      "metadata": {
        "colab": {
          "base_uri": "https://localhost:8080/",
          "height": 35
        },
        "id": "bc-gMklOIW3Z",
        "outputId": "cd84899f-f265-4404-e36a-4022241c23f6"
      },
      "execution_count": 5,
      "outputs": [
        {
          "output_type": "execute_result",
          "data": {
            "text/plain": [
              "'HELLO'"
            ],
            "application/vnd.google.colaboratory.intrinsic+json": {
              "type": "string"
            }
          },
          "metadata": {},
          "execution_count": 5
        }
      ]
    },
    {
      "cell_type": "code",
      "source": [
        "'''\n",
        "Q5. Write a code to replace the word \"apple\" with \"orange\" in the string \"I like apple\".\n",
        "'''\n",
        "my_string = \"I like apple\"\n",
        "my_string.replace(\"apple\", \"orange\")\n"
      ],
      "metadata": {
        "colab": {
          "base_uri": "https://localhost:8080/",
          "height": 35
        },
        "id": "i-OCjvrxI0OQ",
        "outputId": "856dad3a-2e33-4d7e-cd55-75c62cb43185"
      },
      "execution_count": 6,
      "outputs": [
        {
          "output_type": "execute_result",
          "data": {
            "text/plain": [
              "'I like orange'"
            ],
            "application/vnd.google.colaboratory.intrinsic+json": {
              "type": "string"
            }
          },
          "metadata": {},
          "execution_count": 6
        }
      ]
    },
    {
      "cell_type": "code",
      "source": [
        "'''\n",
        "Q6. Write a code to create a list with numbers 1 to 5 and print it.\n",
        "'''\n",
        "my_list = [1, 2, 3, 4, 5]\n",
        "print(my_list)\n"
      ],
      "metadata": {
        "colab": {
          "base_uri": "https://localhost:8080/"
        },
        "id": "IhysgH_4JNpB",
        "outputId": "1e6a3c90-ddb5-4197-c200-3f5096b3cf5d"
      },
      "execution_count": 7,
      "outputs": [
        {
          "output_type": "stream",
          "name": "stdout",
          "text": [
            "[1, 2, 3, 4, 5]\n"
          ]
        }
      ]
    },
    {
      "cell_type": "code",
      "source": [
        "'''\n",
        "Q7. Write a code to append the number 10 to the list [1, 2, 3, 4].\n",
        "'''\n",
        "my_list = [1, 2, 3, 4]\n",
        "my_list.append(10)\n",
        "print(my_list)"
      ],
      "metadata": {
        "colab": {
          "base_uri": "https://localhost:8080/"
        },
        "id": "8w5nVhgtJbhd",
        "outputId": "abd9fbfe-b3c4-48ba-be35-47fe71d10bea"
      },
      "execution_count": 8,
      "outputs": [
        {
          "output_type": "stream",
          "name": "stdout",
          "text": [
            "[1, 2, 3, 4, 10]\n"
          ]
        }
      ]
    },
    {
      "cell_type": "code",
      "source": [
        "'''\n",
        "Q8. Write a code to remove the number 3 from the list [1, 2, 3, 4, 5].\n",
        "'''\n",
        "my_list = [1, 2, 3, 4, 5]\n",
        "my_list.remove(3)\n",
        "print(my_list)\n"
      ],
      "metadata": {
        "colab": {
          "base_uri": "https://localhost:8080/"
        },
        "id": "jKKN5uMfJx5V",
        "outputId": "74e3194d-f563-491d-c875-c1098c254768"
      },
      "execution_count": 9,
      "outputs": [
        {
          "output_type": "stream",
          "name": "stdout",
          "text": [
            "[1, 2, 4, 5]\n"
          ]
        }
      ]
    },
    {
      "cell_type": "code",
      "source": [
        "'''\n",
        "Q9. Write a code to access the second element in the list ['a', 'b', 'c', 'd'].\n",
        "'''\n",
        "my_list = ['a', 'b', 'c', 'd']\n",
        "my_list[1]\n"
      ],
      "metadata": {
        "colab": {
          "base_uri": "https://localhost:8080/",
          "height": 35
        },
        "id": "PCQ5NMoCKEiI",
        "outputId": "31ed4817-9daf-41aa-ae5e-51df53f76e33"
      },
      "execution_count": 10,
      "outputs": [
        {
          "output_type": "execute_result",
          "data": {
            "text/plain": [
              "'b'"
            ],
            "application/vnd.google.colaboratory.intrinsic+json": {
              "type": "string"
            }
          },
          "metadata": {},
          "execution_count": 10
        }
      ]
    },
    {
      "cell_type": "code",
      "source": [
        "'''\n",
        "Q10. Write a code to reverse the list [10, 20, 30, 40, 50].\n",
        "'''\n",
        "my_list = [10, 20, 30, 40, 50]\n",
        "my_list.reverse()\n",
        "print(my_list)"
      ],
      "metadata": {
        "colab": {
          "base_uri": "https://localhost:8080/"
        },
        "id": "q3H91YzYKUIB",
        "outputId": "6126622e-e075-491a-ebd5-180b43090536"
      },
      "execution_count": 11,
      "outputs": [
        {
          "output_type": "stream",
          "name": "stdout",
          "text": [
            "[50, 40, 30, 20, 10]\n"
          ]
        }
      ]
    },
    {
      "cell_type": "code",
      "source": [
        "'''\n",
        "Q11. Write a code to create a tuple with the elements 100, 200, 300 and print it.\n",
        "'''\n",
        "my_tuple = (100, 200, 300)\n",
        "print(my_tuple)"
      ],
      "metadata": {
        "colab": {
          "base_uri": "https://localhost:8080/"
        },
        "id": "GvAM7XpGKl6B",
        "outputId": "16962317-69c3-4c5c-999c-3174a3c6498e"
      },
      "execution_count": 12,
      "outputs": [
        {
          "output_type": "stream",
          "name": "stdout",
          "text": [
            "(100, 200, 300)\n"
          ]
        }
      ]
    },
    {
      "cell_type": "code",
      "source": [
        "'''\n",
        "Q12. Write a code to access the second-to-last element of the tuple ('red', 'green', 'blue', 'yellow').\n",
        "'''\n",
        "my_tuple = ('red', 'green', 'blue', 'yellow')\n",
        "my_tuple[-2]\n"
      ],
      "metadata": {
        "colab": {
          "base_uri": "https://localhost:8080/",
          "height": 35
        },
        "id": "D2pTr5N7K0s8",
        "outputId": "622f9a97-e05f-4233-f319-b31254fba76c"
      },
      "execution_count": 13,
      "outputs": [
        {
          "output_type": "execute_result",
          "data": {
            "text/plain": [
              "'blue'"
            ],
            "application/vnd.google.colaboratory.intrinsic+json": {
              "type": "string"
            }
          },
          "metadata": {},
          "execution_count": 13
        }
      ]
    },
    {
      "cell_type": "code",
      "source": [
        "'''\n",
        "Q13. Write a code to find the minimum number in the tuple (10, 20, 5, 15).\n",
        "'''\n",
        "my_tuple = (10, 20, 5, 15)\n",
        "min(my_tuple)"
      ],
      "metadata": {
        "colab": {
          "base_uri": "https://localhost:8080/"
        },
        "id": "NLJkdr5ZLMDt",
        "outputId": "19efda69-0c3e-478d-9869-451d4806205f"
      },
      "execution_count": 14,
      "outputs": [
        {
          "output_type": "execute_result",
          "data": {
            "text/plain": [
              "5"
            ]
          },
          "metadata": {},
          "execution_count": 14
        }
      ]
    },
    {
      "cell_type": "code",
      "source": [
        "'''\n",
        "Q14. Write a code to find the index of the element \"cat\" in the tuple ('dog', 'cat', 'rabbit').\n",
        "'''\n",
        "my_tuple = ('dog', 'cat', 'rabbit')\n",
        "my_tuple.index(\"cat\")"
      ],
      "metadata": {
        "colab": {
          "base_uri": "https://localhost:8080/"
        },
        "id": "TOW00zbaLc9O",
        "outputId": "349fdae8-da00-4d53-ec86-4057b6794fd2"
      },
      "execution_count": 15,
      "outputs": [
        {
          "output_type": "execute_result",
          "data": {
            "text/plain": [
              "1"
            ]
          },
          "metadata": {},
          "execution_count": 15
        }
      ]
    },
    {
      "cell_type": "code",
      "source": [
        "'''\n",
        "Q15. Write a code to create a tuple containing three different fruits and check if \"kiwi\" is in it.\n",
        "'''\n",
        "fruits = (\"apple\", \"banana\", \"kiwi\")\n",
        "\"kiwi\" in fruits"
      ],
      "metadata": {
        "colab": {
          "base_uri": "https://localhost:8080/"
        },
        "id": "GTKXJMAoLvQG",
        "outputId": "59b4075d-f9f8-4974-c88a-1e141184e27a"
      },
      "execution_count": 16,
      "outputs": [
        {
          "output_type": "execute_result",
          "data": {
            "text/plain": [
              "True"
            ]
          },
          "metadata": {},
          "execution_count": 16
        }
      ]
    },
    {
      "cell_type": "code",
      "source": [
        "'''\n",
        "Q16. Write a code to create a set with the elements 'a', 'b', 'c' and print it.\n",
        "'''\n",
        "my_set = {'a', 'b', 'c'}\n",
        "print(my_set)"
      ],
      "metadata": {
        "colab": {
          "base_uri": "https://localhost:8080/"
        },
        "id": "6M1qmxlQMHdK",
        "outputId": "5d6cf276-d95f-4afe-df40-6bf13cd48196"
      },
      "execution_count": 17,
      "outputs": [
        {
          "output_type": "stream",
          "name": "stdout",
          "text": [
            "{'a', 'b', 'c'}\n"
          ]
        }
      ]
    },
    {
      "cell_type": "code",
      "source": [
        "'''\n",
        "Q17. Write a code to clear all elements from the set {1, 2, 3, 4, 5}.\n",
        "'''\n",
        "my_set = {1, 2, 3, 4, 5}\n",
        "my_set.clear()\n",
        "print(my_set)"
      ],
      "metadata": {
        "colab": {
          "base_uri": "https://localhost:8080/"
        },
        "id": "34KqKt-hMxNx",
        "outputId": "ffdb91ef-d3b2-40a0-b103-a904cb9557a9"
      },
      "execution_count": 18,
      "outputs": [
        {
          "output_type": "stream",
          "name": "stdout",
          "text": [
            "set()\n"
          ]
        }
      ]
    },
    {
      "cell_type": "code",
      "source": [
        "'''\n",
        "Q18. Write a code to remove the element 4 from the set {1, 2, 3, 4}.\n",
        "'''\n",
        "my_set = {1, 2, 3, 4}\n",
        "my_set.remove(4)\n",
        "print(my_set)"
      ],
      "metadata": {
        "colab": {
          "base_uri": "https://localhost:8080/"
        },
        "id": "3ws65vv1NIWc",
        "outputId": "e6472726-0951-44c9-bf28-de72dffe2e4b"
      },
      "execution_count": 19,
      "outputs": [
        {
          "output_type": "stream",
          "name": "stdout",
          "text": [
            "{1, 2, 3}\n"
          ]
        }
      ]
    },
    {
      "cell_type": "code",
      "source": [
        "'''\n",
        "Q19. Write a code to find the union of two sets {1, 2, 3} and {3, 4, 5}.\n",
        "'''\n",
        "my_set1 = {1, 2, 3}\n",
        "my_set2 = {3, 4, 5}\n",
        "my_set1.union(my_set2)"
      ],
      "metadata": {
        "colab": {
          "base_uri": "https://localhost:8080/"
        },
        "id": "NHIzHwZoNheJ",
        "outputId": "467aede8-be58-4298-e751-3f727bf61224"
      },
      "execution_count": 20,
      "outputs": [
        {
          "output_type": "execute_result",
          "data": {
            "text/plain": [
              "{1, 2, 3, 4, 5}"
            ]
          },
          "metadata": {},
          "execution_count": 20
        }
      ]
    },
    {
      "cell_type": "code",
      "source": [
        "'''\n",
        "Q20. Write a code to find the intersection of two sets {1, 2, 3} and {2, 3, 4}.\n",
        "'''\n",
        "my_set1 = {1, 2, 3}\n",
        "my_set2 = {2, 3, 4}\n",
        "my_set1.intersection(my_set2)"
      ],
      "metadata": {
        "colab": {
          "base_uri": "https://localhost:8080/"
        },
        "id": "t8LWWbnFNydi",
        "outputId": "000fa427-7f11-4999-a425-6680bb805723"
      },
      "execution_count": 21,
      "outputs": [
        {
          "output_type": "execute_result",
          "data": {
            "text/plain": [
              "{2, 3}"
            ]
          },
          "metadata": {},
          "execution_count": 21
        }
      ]
    },
    {
      "cell_type": "code",
      "source": [
        "'''\n",
        "Q21. Write a code to create a dictionary with the keys \"name\", \"age\", and \"city\", and print it.\n",
        "'''\n",
        "my_dict = {\"name\": \"Matender\", \"age\": 25, \"city\": \"Delhi\"}\n",
        "print(my_dict)"
      ],
      "metadata": {
        "colab": {
          "base_uri": "https://localhost:8080/"
        },
        "id": "KfymljW_N_1u",
        "outputId": "17ea2c7d-5307-48d9-d274-aabd098a92bf"
      },
      "execution_count": 22,
      "outputs": [
        {
          "output_type": "stream",
          "name": "stdout",
          "text": [
            "{'name': 'Matender', 'age': 25, 'city': 'Delhi'}\n"
          ]
        }
      ]
    },
    {
      "cell_type": "code",
      "source": [
        "'''\n",
        "Q22. Write a code to add a new key-value pair \"country\": \"USA\" to the dictionary {'name': 'John', 'age': 25}.\n",
        "'''\n",
        "my_dict = {'name': 'John', 'age': 25}\n",
        "my_dict[\"country\"] = \"USA\"\n",
        "print(my_dict)\n"
      ],
      "metadata": {
        "colab": {
          "base_uri": "https://localhost:8080/"
        },
        "id": "Rk8dmdwdORqy",
        "outputId": "08adf989-1249-4a6e-cc97-9f80e233c324"
      },
      "execution_count": 23,
      "outputs": [
        {
          "output_type": "stream",
          "name": "stdout",
          "text": [
            "{'name': 'John', 'age': 25, 'country': 'USA'}\n"
          ]
        }
      ]
    },
    {
      "cell_type": "code",
      "source": [
        "'''\n",
        "Q23. Write a code to access the value associated with the key \"name\" in the dictionary {'name': 'Alice', 'age': 30}.\n",
        "'''\n",
        "my_dict = {'name': 'Alice', 'age': 30}\n",
        "my_dict[\"name\"]\n"
      ],
      "metadata": {
        "colab": {
          "base_uri": "https://localhost:8080/",
          "height": 35
        },
        "id": "oFz6vMjnOwFp",
        "outputId": "cbe5abad-dadd-4ce2-bf57-9c86247e6f6e"
      },
      "execution_count": 24,
      "outputs": [
        {
          "output_type": "execute_result",
          "data": {
            "text/plain": [
              "'Alice'"
            ],
            "application/vnd.google.colaboratory.intrinsic+json": {
              "type": "string"
            }
          },
          "metadata": {},
          "execution_count": 24
        }
      ]
    },
    {
      "cell_type": "code",
      "source": [
        "'''\n",
        "Q24. Write a code to remove the key \"age\" from the dictionary {'name': 'Bob', 'age': 22, 'city': 'New York'}.\n",
        "'''\n",
        "my_dict = {'name': 'Bob', 'age': 22, 'city': 'New York'}\n",
        "del my_dict[\"age\"]\n",
        "print(my_dict)"
      ],
      "metadata": {
        "colab": {
          "base_uri": "https://localhost:8080/"
        },
        "id": "G3H3mFu-PLYL",
        "outputId": "f50f422c-43e8-45c1-caeb-3cf88f0de1ce"
      },
      "execution_count": 27,
      "outputs": [
        {
          "output_type": "stream",
          "name": "stdout",
          "text": [
            "{'name': 'Bob', 'city': 'New York'}\n"
          ]
        }
      ]
    },
    {
      "cell_type": "code",
      "source": [
        "'''\n",
        "Q25. Write a code to check if the key \"city\" exists in the dictionary {'name': 'Alice', 'city': 'Paris'}.\n",
        "'''\n",
        "my_dict = {'name': 'Alice', 'city': 'Paris'}\n",
        "\"city\" in my_dict"
      ],
      "metadata": {
        "colab": {
          "base_uri": "https://localhost:8080/"
        },
        "id": "a43yUB7BPwmj",
        "outputId": "08fef98d-2b37-403b-c07a-a8e9fae5c9ec"
      },
      "execution_count": 28,
      "outputs": [
        {
          "output_type": "execute_result",
          "data": {
            "text/plain": [
              "True"
            ]
          },
          "metadata": {},
          "execution_count": 28
        }
      ]
    },
    {
      "cell_type": "code",
      "source": [
        "'''\n",
        "Q26. Write a code to create a list, a tuple, and a dictionary, and print them all.\n",
        "'''\n",
        "my_list = [1, \"Matender\", \"New york\"]\n",
        "my_tuple = ('a', 'b', 'c', 'd' )\n",
        "my_dict = {\"a\": 10, \"b\": 20}\n",
        "print(my_list)\n",
        "print(my_tuple)\n",
        "print(my_dict)"
      ],
      "metadata": {
        "colab": {
          "base_uri": "https://localhost:8080/"
        },
        "id": "TrPUiD6-QRyy",
        "outputId": "ab7a3593-f942-4437-9315-107a079b77bd"
      },
      "execution_count": 32,
      "outputs": [
        {
          "output_type": "stream",
          "name": "stdout",
          "text": [
            "[1, 'Matender', 'New york']\n",
            "('a', 'b', 'c', 'd')\n",
            "{'a': 10, 'b': 20}\n"
          ]
        }
      ]
    },
    {
      "cell_type": "code",
      "source": [
        "'''\n",
        "Q27. Write a code to create a list of 5 random numbers between 1 and 100, sort it in ascending order, and print the\n",
        "result.(replaced)\n",
        "'''\n",
        "num_list = [11, 99, 15, 44, 14]\n",
        "num_list.sort()\n",
        "print(num_list)"
      ],
      "metadata": {
        "colab": {
          "base_uri": "https://localhost:8080/"
        },
        "id": "xN5_b6A2R8SJ",
        "outputId": "3c18be2b-b819-416b-9bed-2f4a8fe128e2"
      },
      "execution_count": 35,
      "outputs": [
        {
          "output_type": "stream",
          "name": "stdout",
          "text": [
            "[11, 14, 15, 44, 99]\n"
          ]
        }
      ]
    },
    {
      "cell_type": "code",
      "source": [
        "'''\n",
        "Q28. Write a code to create a list with strings and print the element at the third index.\n",
        "'''\n",
        "my_list = [\"apple\", \"ginger\", \"orange\", \"kiwi\"]\n",
        "my_list[3]"
      ],
      "metadata": {
        "colab": {
          "base_uri": "https://localhost:8080/",
          "height": 35
        },
        "id": "csffgKYMTAZf",
        "outputId": "b7bb21c5-edad-4f2a-d959-6d1d101786f9"
      },
      "execution_count": 37,
      "outputs": [
        {
          "output_type": "execute_result",
          "data": {
            "text/plain": [
              "'kiwi'"
            ],
            "application/vnd.google.colaboratory.intrinsic+json": {
              "type": "string"
            }
          },
          "metadata": {},
          "execution_count": 37
        }
      ]
    },
    {
      "cell_type": "code",
      "source": [
        "'''\n",
        "Q29. Write a code to combine two dictionaries into one and print the result.\n",
        "'''\n",
        "dict1 = {\"a\": 10, \"b\": 20}\n",
        "dict2 = {\"c\": 30, \"d\": 40}\n",
        "result = {**dict1, **dict2}\n",
        "print(result)"
      ],
      "metadata": {
        "colab": {
          "base_uri": "https://localhost:8080/"
        },
        "id": "_IipDR9rTk0w",
        "outputId": "5c2f29cb-a194-425c-d126-28044b8eec88"
      },
      "execution_count": 39,
      "outputs": [
        {
          "output_type": "stream",
          "name": "stdout",
          "text": [
            "{'a': 10, 'b': 20, 'c': 30, 'd': 40}\n"
          ]
        }
      ]
    },
    {
      "cell_type": "code",
      "source": [
        "'''\n",
        "Q30. Write a code to convert a list of strings into a set.\n",
        "'''\n",
        "my_list = [\"apple\", \"banana\", \"kiwi\"]\n",
        "my_set = set(my_list)\n",
        "print(my_set)"
      ],
      "metadata": {
        "colab": {
          "base_uri": "https://localhost:8080/"
        },
        "id": "n96h8YKpUguG",
        "outputId": "a91225e1-3edd-4bd4-93e1-f25740cad288"
      },
      "execution_count": 40,
      "outputs": [
        {
          "output_type": "stream",
          "name": "stdout",
          "text": [
            "{'apple', 'kiwi', 'banana'}\n"
          ]
        }
      ]
    },
    {
      "cell_type": "code",
      "source": [],
      "metadata": {
        "id": "_WUHlBCnU6_V"
      },
      "execution_count": null,
      "outputs": []
    }
  ]
}